{
 "cells": [
  {
   "cell_type": "code",
   "execution_count": null,
   "metadata": {
    "id": "l7TCJymUzTms"
   },
   "outputs": [],
   "source": [
    "#Jupyter-lab es como un jupyter notebook 2.0\n",
    "#lenguajes compilados: C, C++, Fortran\n",
    "#Lenguajes interpretados: Python, Ruby, R"
   ]
  },
  {
   "cell_type": "code",
   "execution_count": null,
   "metadata": {
    "id": "eJdaeKSZz60D"
   },
   "outputs": [],
   "source": []
  },
  {
   "cell_type": "markdown",
   "metadata": {
    "id": "LaRt3RgR5VuU"
   },
   "source": [
    "# Programación Orientada a Objetos\n",
    "## Clase lunes\n",
    "Hoy veremos qué es POO (Programación )\n",
    "\n",
    "1. Class: Las clases en Python son los bliques de programación para POO. Son como los templates de los objetos\n",
    "2. Métodos: son las \"funciones\" dentro de las clases, son las \"acciones\" que corresponden a dicha clase\n",
    "3. Constructores: son elementos de POO para \"instanciar\" o \"inicializar\" un objeto (e.g. proponer valores iniciales)\n",
    "4. Heredar características: Se pueden heredar características y métodos entre clases\n",
    "5. Encapsulación: que podemos tener diferentes objetos de una misma clase con valores diferentes."
   ]
  },
  {
   "cell_type": "code",
   "execution_count": null,
   "metadata": {
    "id": "ds7mSbyMABMY"
   },
   "outputs": [],
   "source": [
    "#Existen palabras reservadas en Python que son las que USUALMENTE\n",
    "#cambian de color y de preferencia no usarlas para asignar variables\n",
    "#Ejemplo de qué no hacer:\n",
    "#sum=\"Clase de Maik\""
   ]
  },
  {
   "cell_type": "code",
   "execution_count": null,
   "metadata": {
    "id": "9BXWp1WXz6xc"
   },
   "outputs": [],
   "source": [
    "#ejemplo de clases\n",
    "class animal(object):\n",
    "  numero_de_patas=4\n",
    "  #método\n",
    "  def set_val(self):\n",
    "    pelaje=\"sí\"\n",
    "    self.ojos=2\n",
    "#función (subrutinas)\n",
    "def suma(a,b):\n",
    "  return a+b\n",
    "\n"
   ]
  },
  {
   "cell_type": "code",
   "execution_count": null,
   "metadata": {
    "id": "ZYXCpgXbz6us"
   },
   "outputs": [],
   "source": [
    "##generando un objeto\n",
    "perro=animal()"
   ]
  },
  {
   "cell_type": "code",
   "execution_count": null,
   "metadata": {
    "colab": {
     "base_uri": "https://localhost:8080/"
    },
    "id": "3zQnlYAAz6r-",
    "outputId": "d2e12d5f-4c05-4aff-a9d2-e3eceaa4e0b7"
   },
   "outputs": [
    {
     "data": {
      "text/plain": [
       "4"
      ]
     },
     "execution_count": 8,
     "metadata": {},
     "output_type": "execute_result"
    }
   ],
   "source": [
    "perro.numero_de_patas"
   ]
  },
  {
   "cell_type": "code",
   "execution_count": null,
   "metadata": {
    "id": "ydB7ACut-VnS"
   },
   "outputs": [],
   "source": [
    "#estrcutra objeto(clase).método()\n",
    "perro.set_val()"
   ]
  },
  {
   "cell_type": "code",
   "execution_count": null,
   "metadata": {
    "colab": {
     "base_uri": "https://localhost:8080/",
     "height": 200
    },
    "id": "HGEKmXJFArkh",
    "outputId": "f868bdc4-a7df-4e3c-bcd5-ef3ba8213a71"
   },
   "outputs": [
    {
     "ename": "AttributeError",
     "evalue": "ignored",
     "output_type": "error",
     "traceback": [
      "\u001b[0;31m---------------------------------------------------------------------------\u001b[0m",
      "\u001b[0;31mAttributeError\u001b[0m                            Traceback (most recent call last)",
      "\u001b[0;32m<ipython-input-15-4957c081e1b9>\u001b[0m in \u001b[0;36m<module>\u001b[0;34m\u001b[0m\n\u001b[0;32m----> 1\u001b[0;31m \u001b[0mperro\u001b[0m\u001b[0;34m.\u001b[0m\u001b[0mpelaje\u001b[0m\u001b[0;34m\u001b[0m\u001b[0;34m\u001b[0m\u001b[0m\n\u001b[0m",
      "\u001b[0;31mAttributeError\u001b[0m: 'animal' object has no attribute 'pelaje'"
     ]
    }
   ],
   "source": [
    "perro.pelaje"
   ]
  },
  {
   "cell_type": "code",
   "execution_count": null,
   "metadata": {
    "colab": {
     "base_uri": "https://localhost:8080/"
    },
    "id": "5jugxKYSAzWJ",
    "outputId": "25d6daf3-6cbe-4682-8184-1c7ecf526c9c"
   },
   "outputs": [
    {
     "data": {
      "text/plain": [
       "3"
      ]
     },
     "execution_count": 16,
     "metadata": {},
     "output_type": "execute_result"
    }
   ],
   "source": [
    "suma(1,2)"
   ]
  },
  {
   "cell_type": "code",
   "execution_count": null,
   "metadata": {
    "id": "EUjCcUsGCqfG"
   },
   "outputs": [],
   "source": [
    "#Constructor:\n",
    "class ejemplo(object):\n",
    "  #--- esto es el construtor\n",
    "  def __init__(self): \n",
    "    print(\"llamando al contructtor\")\n",
    "    self.val=10\n",
    "##---------- termina el constructor\n",
    "\n",
    "  def incremento(self):\n",
    "    self.val=self.val+1\n",
    "    print(self.val)"
   ]
  },
  {
   "cell_type": "code",
   "execution_count": null,
   "metadata": {
    "colab": {
     "base_uri": "https://localhost:8080/"
    },
    "id": "t0DFUtU3DMOX",
    "outputId": "bae92dbb-52d6-4cd2-83ce-0c083cfa874b"
   },
   "outputs": [
    {
     "name": "stdout",
     "output_type": "stream",
     "text": [
      "llamando al contructtor\n"
     ]
    }
   ],
   "source": [
    "dd=ejemplo()"
   ]
  },
  {
   "cell_type": "code",
   "execution_count": null,
   "metadata": {
    "colab": {
     "base_uri": "https://localhost:8080/"
    },
    "id": "cTYqs6b5DMLu",
    "outputId": "46d1ed87-1721-438b-9119-1b9f65c72067"
   },
   "outputs": [
    {
     "name": "stdout",
     "output_type": "stream",
     "text": [
      "13\n"
     ]
    }
   ],
   "source": [
    "dd.incremento()"
   ]
  },
  {
   "cell_type": "code",
   "execution_count": null,
   "metadata": {
    "colab": {
     "base_uri": "https://localhost:8080/"
    },
    "id": "zVodAjv0DMJL",
    "outputId": "a8fe5529-03ce-434f-e2a7-a8a4db39fb19"
   },
   "outputs": [
    {
     "name": "stdout",
     "output_type": "stream",
     "text": [
      "14\n"
     ]
    }
   ],
   "source": [
    "dd.incremento()"
   ]
  },
  {
   "cell_type": "code",
   "execution_count": null,
   "metadata": {
    "colab": {
     "base_uri": "https://localhost:8080/"
    },
    "id": "QUGQSYgDDMGJ",
    "outputId": "7eaa871a-5f1d-4807-aad5-b98eb442cb76"
   },
   "outputs": [
    {
     "name": "stdout",
     "output_type": "stream",
     "text": [
      "15\n"
     ]
    }
   ],
   "source": [
    "dd.incremento()"
   ]
  },
  {
   "cell_type": "code",
   "execution_count": null,
   "metadata": {
    "id": "kBmWfsYGDMDc"
   },
   "outputs": [],
   "source": [
    "#clase father/parent\n",
    "##ejemplo de herencia\n",
    "class fecha(object):\n",
    "  def get_date(self):\n",
    "    print(\"24/oct/2022\")\n",
    "#####################\n"
   ]
  },
  {
   "cell_type": "code",
   "execution_count": null,
   "metadata": {
    "id": "4QtN1B3bFzrl"
   },
   "outputs": [],
   "source": [
    "#quien hereda clase child\n",
    "class tiempo(fecha):\n",
    "  def get_time(self):\n",
    "    print(\"12:44\")"
   ]
  },
  {
   "cell_type": "code",
   "execution_count": null,
   "metadata": {
    "id": "0oMxqAWRFzpf"
   },
   "outputs": [],
   "source": [
    "dt=fecha()"
   ]
  },
  {
   "cell_type": "code",
   "execution_count": null,
   "metadata": {
    "colab": {
     "base_uri": "https://localhost:8080/"
    },
    "id": "vrpp6z7jFzm2",
    "outputId": "55b0b495-b84b-4036-fb2b-2bf093511b0e"
   },
   "outputs": [
    {
     "name": "stdout",
     "output_type": "stream",
     "text": [
      "24/oct/2022\n"
     ]
    }
   ],
   "source": [
    "dt.get_date()"
   ]
  },
  {
   "cell_type": "code",
   "execution_count": null,
   "metadata": {
    "id": "XB_WNnxqFzkY"
   },
   "outputs": [],
   "source": [
    "time=tiempo()"
   ]
  },
  {
   "cell_type": "code",
   "execution_count": null,
   "metadata": {
    "colab": {
     "base_uri": "https://localhost:8080/"
    },
    "id": "PRqZCHQFFzh0",
    "outputId": "5123f711-14f6-485b-f669-5608b4f39bd6"
   },
   "outputs": [
    {
     "name": "stdout",
     "output_type": "stream",
     "text": [
      "12:44\n"
     ]
    }
   ],
   "source": [
    "time.get_time()"
   ]
  },
  {
   "cell_type": "code",
   "execution_count": null,
   "metadata": {
    "colab": {
     "base_uri": "https://localhost:8080/"
    },
    "id": "iapFuXqRFzfR",
    "outputId": "3d983b72-253e-4e00-de04-dddad89363c9"
   },
   "outputs": [
    {
     "name": "stdout",
     "output_type": "stream",
     "text": [
      "24/oct/2022\n"
     ]
    }
   ],
   "source": [
    "time.get_date()"
   ]
  },
  {
   "cell_type": "code",
   "execution_count": null,
   "metadata": {
    "colab": {
     "base_uri": "https://localhost:8080/",
     "height": 200
    },
    "id": "mTNTNNi8Fzct",
    "outputId": "d4d5ea33-de4f-40c8-bb36-6cf4279fb198"
   },
   "outputs": [
    {
     "ename": "AttributeError",
     "evalue": "ignored",
     "output_type": "error",
     "traceback": [
      "\u001b[0;31m---------------------------------------------------------------------------\u001b[0m",
      "\u001b[0;31mAttributeError\u001b[0m                            Traceback (most recent call last)",
      "\u001b[0;32m<ipython-input-48-2dc6b9f9e65a>\u001b[0m in \u001b[0;36m<module>\u001b[0;34m\u001b[0m\n\u001b[0;32m----> 1\u001b[0;31m \u001b[0mdt\u001b[0m\u001b[0;34m.\u001b[0m\u001b[0mget_time\u001b[0m\u001b[0;34m(\u001b[0m\u001b[0;34m)\u001b[0m\u001b[0;34m\u001b[0m\u001b[0;34m\u001b[0m\u001b[0m\n\u001b[0m",
      "\u001b[0;31mAttributeError\u001b[0m: 'fecha' object has no attribute 'get_time'"
     ]
    }
   ],
   "source": [
    "dt.get_time()"
   ]
  },
  {
   "cell_type": "code",
   "execution_count": 3,
   "metadata": {
    "id": "r57W_eNaFzaG"
   },
   "outputs": [],
   "source": [
    "## encapsulación \n",
    "class animal(object):\n",
    "  def nivel_de_bonito(self,val):\n",
    "    self.value=val\n",
    "  def get_val(self):\n",
    "    return self.value"
   ]
  },
  {
   "cell_type": "code",
   "execution_count": 4,
   "metadata": {
    "id": "F6oTC4d-IVm9"
   },
   "outputs": [],
   "source": [
    "gato=animal()\n",
    "perro=animal()"
   ]
  },
  {
   "cell_type": "code",
   "execution_count": 5,
   "metadata": {
    "id": "Ekf1TiJdIZPA"
   },
   "outputs": [],
   "source": [
    "gato.nivel_de_bonito(100)\n",
    "perro.nivel_de_bonito(5000)"
   ]
  },
  {
   "cell_type": "code",
   "execution_count": 6,
   "metadata": {
    "colab": {
     "base_uri": "https://localhost:8080/"
    },
    "id": "OQ_NJvxgIgMy",
    "outputId": "374af5ab-8b6e-4bf6-94e3-cff139b9dd25"
   },
   "outputs": [
    {
     "data": {
      "text/plain": [
       "5000"
      ]
     },
     "execution_count": 6,
     "metadata": {},
     "output_type": "execute_result"
    }
   ],
   "source": [
    "perro.get_val()"
   ]
  },
  {
   "cell_type": "code",
   "execution_count": 7,
   "metadata": {
    "colab": {
     "base_uri": "https://localhost:8080/"
    },
    "id": "XTxvj9a1Iiio",
    "outputId": "b3dd201b-6139-4adc-ae31-0053c37c3c4c"
   },
   "outputs": [
    {
     "data": {
      "text/plain": [
       "100"
      ]
     },
     "execution_count": 7,
     "metadata": {},
     "output_type": "execute_result"
    }
   ],
   "source": [
    "gato.get_val()"
   ]
  },
  {
   "cell_type": "code",
   "execution_count": 2,
   "metadata": {},
   "outputs": [],
   "source": [
    "# Soldier\n",
    "\n",
    "\n",
    "class Soldier(object):\n",
    "    \n",
    "    def __init__(self, healt, strength):        #Se puede inicializar en un dato que te dé el usuario\n",
    "        self.healt =  healt;\n",
    "        self.strength = strength;\n",
    "        \n",
    "        \n",
    "    def attack():\n",
    "        \n",
    "        return strength;\n",
    "        \n",
    "        \n",
    "        \n",
    "    def receive_damage(damage):\n",
    "        self.health -= damage;\n",
    "        return\n",
    "        \n",
    "    \n",
    "    pass\n",
    "\n",
    "# Viking\n",
    "\n",
    "\n",
    "class Viking(Soldier):\n",
    "    \n",
    "    def __init__(self, name, healt, strength):\n",
    "        self.name =  name;\n",
    "        self.healt =  healt;\n",
    "        self.strength = strength;\n",
    "    \n",
    "    \n",
    "    def receive_damage(damage):\n",
    "        self.health -= damage;\n",
    "        if self.health <= 0:\n",
    "            result = (f\"{self.name} has died in act of combat\");\n",
    "            \n",
    "        elif self.health>0:\n",
    "            result = (f\"{self.name} has received {damage} points of damage\");\n",
    "        \n",
    "        return result;\n",
    "    \n",
    "    def battle_cry():\n",
    "        return ('Odin Owns You All!');\n",
    "        \n",
    "    \n",
    "    \n",
    "    \n",
    "    \n",
    "    \n",
    "    pass\n",
    "\n",
    "# Saxon\n",
    "\n",
    "\n",
    "class Saxon(Soldier):\n",
    "    \n",
    "    \n",
    "    def __init__(self, healt, strength):        \n",
    "        self.healt =  healt;\n",
    "        self.strength = strength;\n",
    "    \n",
    "    \n",
    "    def receive_damage(damage):\n",
    "        self.health -= damage;\n",
    "        if self.health <= 0:\n",
    "            result = (\"A Saxon has died in act of combat\");\n",
    "            \n",
    "        elif self.health>0:\n",
    "            result = (f\"A Saxon has received {damage} points of damage\");\n",
    "        \n",
    "        return result;\n",
    "    \n",
    "    \n",
    "    \n",
    "    pass\n",
    "\n",
    "# War\n",
    "\n",
    "\n",
    "class War():\n",
    "    \n",
    "    def __init__(self):\n",
    "        self.viking_army = [];\n",
    "        self.saxon_army = [];\n",
    "        \n",
    "        \n",
    "        \n",
    "    def add_viking(Viking):\n",
    "        self.viking_army.append(Viking);\n",
    "        return;\n",
    "    \n",
    "    def add_saxon(Saxon):\n",
    "        self.saxon_army.append(Saxon);\n",
    "        return;\n",
    "    \n",
    "    \n",
    "        \n",
    "        \n",
    "    \n",
    "    \n",
    "    \n",
    "    \n",
    "pass\n"
   ]
  },
  {
   "cell_type": "code",
   "execution_count": 9,
   "metadata": {
    "colab": {
     "base_uri": "https://localhost:8080/",
     "height": 88
    },
    "id": "sIaMa_u1IlBL",
    "outputId": "8bc9423b-d5db-476f-c410-a75fe6d273b6"
   },
   "outputs": [
    {
     "ename": "IndentationError",
     "evalue": "expected an indented block (viking_clases.py, line 23)",
     "output_type": "error",
     "traceback": [
      "Traceback \u001b[1;36m(most recent call last)\u001b[0m:\n",
      "  File \u001b[0;32m~\\anaconda3\\lib\\site-packages\\IPython\\core\\interactiveshell.py:3369\u001b[0m in \u001b[0;35mrun_code\u001b[0m\n    exec(code_obj, self.user_global_ns, self.user_ns)\n",
      "\u001b[1;36m  Input \u001b[1;32mIn [9]\u001b[1;36m in \u001b[1;35m<cell line: 4>\u001b[1;36m\u001b[0m\n\u001b[1;33m    from viking_clases import Viking\u001b[0m\n",
      "\u001b[1;36m  File \u001b[1;32m~\\Documents\\GitHub\\lab-data-vikings\\viking_clases.py:23\u001b[1;36m\u001b[0m\n\u001b[1;33m    pass\u001b[0m\n\u001b[1;37m    ^\u001b[0m\n\u001b[1;31mIndentationError\u001b[0m\u001b[1;31m:\u001b[0m expected an indented block\n"
     ]
    }
   ],
   "source": [
    "########## Laboratorio\n",
    "\n",
    "import unittest\n",
    "from viking_clases import Viking\n",
    "from inspect import signature\n",
    "\n",
    "\n",
    "class TestViking(unittest.TestCase):\n",
    "\n",
    "    @classmethod\n",
    "    def setUp(cls):\n",
    "        cls.name = 'Harald'\n",
    "        cls.strength = 150\n",
    "        cls.health = 300\n",
    "        cls.viking = Viking(cls.name, cls.health, cls.strength)\n",
    "\n",
    "    def testShouldReciveThreeParams(self):\n",
    "        self.assertEqual(len(signature(Viking).parameters), 3)\n",
    "\n",
    "    def testName(self):\n",
    "        self.assertEqual(self.viking.name, self.name)\n",
    "\n",
    "    def testHealth(self):\n",
    "        self.assertEqual(self.viking.health, self.health)\n",
    "\n",
    "    def testStrenght(self):\n",
    "        self.assertEqual(self.viking.strength, self.strength)\n",
    "\n",
    "    def testAttackShouldBeFunction(self):\n",
    "        self.assertEqual(callable(self.viking.attack), True)\n",
    "\n",
    "    def testAttackReciveNoParameters(self):\n",
    "        self.assertEqual(len(signature(self.viking.attack).parameters), 0)\n",
    "\n",
    "    def testAttackShouldReturnStrength(self):\n",
    "        self.assertEqual(self.viking.attack(), self.strength)\n",
    "\n",
    "    def testReceiveDamageIsFunction(self):\n",
    "        self.assertEqual(callable(self.viking.receive_damage), True)\n",
    "\n",
    "    def testReceiveDamageReciveOneParam(self):\n",
    "        self.assertEqual(\n",
    "            len(signature(self.viking.receive_damage).parameters), 1)\n",
    "\n",
    "    def testReciveDamageShouldRestHealth(self):\n",
    "        self.viking.receive_damage(50)\n",
    "        self.assertEqual(self.viking.health, self.health - 50)\n",
    "\n",
    "    def testReciveDamageShouldReturnString50(self):\n",
    "        self.assertEqual(self.viking.receive_damage(50), self.name +\n",
    "                         ' has received 50 points of damage')\n",
    "\n",
    "    def testReciveDamageShouldReturnString70(self):\n",
    "        self.assertEqual(self.viking.receive_damage(70), self.name +\n",
    "                         ' has received 70 points of damage')\n",
    "\n",
    "    def testReceiveDamageShouldReturnStringDeath(self):\n",
    "        self.assertEqual(self.viking.receive_damage(self.health),\n",
    "                         self.name + ' has died in act of combat')\n",
    "\n",
    "    def testBattleCry(self):\n",
    "        self.assertEqual(callable(self.viking.battle_cry), True)\n",
    "\n",
    "    def testBattleCryReturnString(self):\n",
    "        self.assertEqual(self.viking.battle_cry(), 'Odin Owns You All!')\n",
    "\n",
    "\n",
    "if __name__ == '__main__':\n",
    "    unittest.main()\n"
   ]
  },
  {
   "cell_type": "code",
   "execution_count": null,
   "metadata": {
    "colab": {
     "base_uri": "https://localhost:8080/"
    },
    "id": "Zk3R_5pxp7H_",
    "outputId": "eae18a21-7402-4bdc-c045-16dfe26233a0"
   },
   "outputs": [
    {
     "name": "stdout",
     "output_type": "stream",
     "text": [
      "30\n",
      "10\n"
     ]
    }
   ],
   "source": [
    "saxon = Saxon(30, 10)\n",
    "print(saxon.health)\n",
    "print(saxon.strength)"
   ]
  },
  {
   "cell_type": "code",
   "execution_count": null,
   "metadata": {
    "id": "6fyhf9q7p7FU"
   },
   "outputs": [],
   "source": [
    "# Create War object\n",
    "guerra1 = War()"
   ]
  },
  {
   "cell_type": "code",
   "execution_count": null,
   "metadata": {
    "colab": {
     "base_uri": "https://localhost:8080/"
    },
    "id": "jWWRlpssp7Cv",
    "outputId": "a78a1e55-c2d5-42e3-b0c6-f649701baebb"
   },
   "outputs": [
    {
     "data": {
      "text/plain": [
       "[<vikingsClases.Viking at 0x7fbabc079ed0>,\n",
       " <vikingsClases.Viking at 0x7fbabc0794d0>,\n",
       " <vikingsClases.Viking at 0x7fbabc079f90>,\n",
       " <vikingsClases.Viking at 0x7fbabc079710>,\n",
       " <vikingsClases.Viking at 0x7fbabc079c10>,\n",
       " <vikingsClases.Viking at 0x7fbabc079b90>,\n",
       " <vikingsClases.Viking at 0x7fbabc0791d0>]"
      ]
     },
     "execution_count": 79,
     "metadata": {},
     "output_type": "execute_result"
    }
   ],
   "source": [
    "for i in range(0, 7):\n",
    "    guerra1.addViking(Viking('Erik', 20, 15))\n",
    "    \n",
    "guerra1.vikingArmy"
   ]
  },
  {
   "cell_type": "code",
   "execution_count": null,
   "metadata": {
    "colab": {
     "base_uri": "https://localhost:8080/"
    },
    "id": "VQc_cAR-p7AM",
    "outputId": "e03d0158-aeb5-4eb4-d006-de7a715a134e"
   },
   "outputs": [
    {
     "data": {
      "text/plain": [
       "[<vikingsClases.Saxon at 0x7fbabc074390>,\n",
       " <vikingsClases.Saxon at 0x7fbabc0dbc10>,\n",
       " <vikingsClases.Saxon at 0x7fbabc0db790>,\n",
       " <vikingsClases.Saxon at 0x7fbabc0dba50>,\n",
       " <vikingsClases.Saxon at 0x7fbabc0dbbd0>,\n",
       " <vikingsClases.Saxon at 0x7fbabc0dbf50>,\n",
       " <vikingsClases.Saxon at 0x7fbabc0db890>]"
      ]
     },
     "execution_count": 80,
     "metadata": {},
     "output_type": "execute_result"
    }
   ],
   "source": [
    "for i in range(0, 7):\n",
    "    guerra1.addSaxon(Saxon(30, 10))\n",
    "    \n",
    "guerra1.saxonArmy"
   ]
  },
  {
   "cell_type": "code",
   "execution_count": null,
   "metadata": {
    "colab": {
     "base_uri": "https://localhost:8080/"
    },
    "id": "csKHCBFoqTup",
    "outputId": "3259d2ea-bf66-44f9-c64c-8c6133080949"
   },
   "outputs": [
    {
     "name": "stdout",
     "output_type": "stream",
     "text": [
      "Vikings and Saxons are still in the thick of battle.\n",
      "30\n",
      "30\n",
      "30\n",
      "30\n",
      "15\n",
      "30\n",
      "30\n"
     ]
    }
   ],
   "source": [
    "guerra1.vikingAttack()\n",
    "print(guerra1.showStatus())\n",
    "\n",
    "# Print the health of the saxon army to check if attack worked\n",
    "for i in guerra1.saxonArmy:\n",
    "    print(i.health)"
   ]
  },
  {
   "cell_type": "code",
   "execution_count": null,
   "metadata": {
    "colab": {
     "base_uri": "https://localhost:8080/"
    },
    "id": "j8YgDu_tqTsH",
    "outputId": "cab25a4b-3ad0-433b-a20b-2a957f9b6f4d"
   },
   "outputs": [
    {
     "name": "stdout",
     "output_type": "stream",
     "text": [
      "Vikings and Saxons are still in the thick of battle.\n",
      "20\n",
      "20\n",
      "20\n",
      "20\n",
      "10\n",
      "20\n",
      "20\n"
     ]
    }
   ],
   "source": [
    "guerra1.saxonAttack()\n",
    "print(guerra1.showStatus())\n",
    "\n",
    "for i in guerra1.vikingArmy:\n",
    "    print(i.health)"
   ]
  },
  {
   "cell_type": "code",
   "execution_count": null,
   "metadata": {
    "colab": {
     "base_uri": "https://localhost:8080/"
    },
    "id": "J1npqii7qTpX",
    "outputId": "320a76f3-8271-4c75-9175-77ff82e5a614"
   },
   "outputs": [
    {
     "name": "stdout",
     "output_type": "stream",
     "text": [
      "Vikings have won the war of the century!\n"
     ]
    }
   ],
   "source": [
    "while True:\n",
    "    \n",
    "    if not guerra1.vikingArmy:\n",
    "        print(guerra1.showStatus())\n",
    "        break\n",
    "    \n",
    "    guerra1.vikingAttack()\n",
    "    \n",
    "    if not guerra1.saxonArmy:\n",
    "        print(guerra1.showStatus())\n",
    "        break \n",
    "         \n",
    "    guerra1.saxonAttack()"
   ]
  },
  {
   "cell_type": "code",
   "execution_count": null,
   "metadata": {
    "id": "_R_oOtwMqTmv"
   },
   "outputs": [],
   "source": []
  },
  {
   "cell_type": "code",
   "execution_count": null,
   "metadata": {
    "id": "tvj6-XniqTkU"
   },
   "outputs": [],
   "source": []
  },
  {
   "cell_type": "code",
   "execution_count": null,
   "metadata": {
    "id": "6BotpHCoqThf"
   },
   "outputs": [],
   "source": []
  }
 ],
 "metadata": {
  "colab": {
   "provenance": []
  },
  "kernelspec": {
   "display_name": "Python 3 (ipykernel)",
   "language": "python",
   "name": "python3"
  },
  "language_info": {
   "codemirror_mode": {
    "name": "ipython",
    "version": 3
   },
   "file_extension": ".py",
   "mimetype": "text/x-python",
   "name": "python",
   "nbconvert_exporter": "python",
   "pygments_lexer": "ipython3",
   "version": "3.9.12"
  }
 },
 "nbformat": 4,
 "nbformat_minor": 1
}
