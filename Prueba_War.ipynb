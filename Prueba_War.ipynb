{
 "cells": [
  {
   "cell_type": "code",
   "execution_count": 25,
   "metadata": {},
   "outputs": [
    {
     "name": "stdout",
     "output_type": "stream",
     "text": [
      "11\n"
     ]
    }
   ],
   "source": [
    "#import random\n",
    "\n",
    "\n",
    "#random.randint(0,7)\n",
    "\n",
    "li = [1,3,4,6,7,1,34,8,4,5,724,64];\n",
    "\n",
    "el=li.pop(6)\n",
    "\n",
    "print(len(li))\n"
   ]
  },
  {
   "cell_type": "code",
   "execution_count": 1,
   "metadata": {
    "colab": {
     "base_uri": "https://localhost:8080/",
     "height": 88
    },
    "id": "sIaMa_u1IlBL",
    "outputId": "8bc9423b-d5db-476f-c410-a75fe6d273b6"
   },
   "outputs": [
    {
     "name": "stdout",
     "output_type": "stream",
     "text": [
      "Olaf\n",
      "20\n",
      "15\n"
     ]
    },
    {
     "data": {
      "text/plain": [
       "'Odin Owns You All!'"
      ]
     },
     "execution_count": 1,
     "metadata": {},
     "output_type": "execute_result"
    }
   ],
   "source": [
    "\n",
    "\n",
    "\n",
    "from viking_clases import *\n",
    "\n",
    "vikingo = Viking('Olaf', 20, 15)\n",
    "print(vikingo.name)\n",
    "print(vikingo.health)\n",
    "print(vikingo.strength)\n",
    "vikingo.battle_cry()"
   ]
  },
  {
   "cell_type": "code",
   "execution_count": 2,
   "metadata": {
    "colab": {
     "base_uri": "https://localhost:8080/"
    },
    "id": "Zk3R_5pxp7H_",
    "outputId": "eae18a21-7402-4bdc-c045-16dfe26233a0"
   },
   "outputs": [
    {
     "name": "stdout",
     "output_type": "stream",
     "text": [
      "30\n",
      "10\n"
     ]
    }
   ],
   "source": [
    "saxon = Saxon(30, 10)\n",
    "print(saxon.health)\n",
    "print(saxon.strength)"
   ]
  },
  {
   "cell_type": "code",
   "execution_count": 3,
   "metadata": {
    "id": "6fyhf9q7p7FU"
   },
   "outputs": [],
   "source": [
    "# Create War object\n",
    "guerra1 = War()\n",
    "\n"
   ]
  },
  {
   "cell_type": "code",
   "execution_count": 9,
   "metadata": {},
   "outputs": [
    {
     "data": {
      "text/plain": [
       "('Erik', 20, 15)"
      ]
     },
     "execution_count": 9,
     "metadata": {},
     "output_type": "execute_result"
    }
   ],
   "source": [
    "datos = guerra1.show_viking(4)\n",
    "datos"
   ]
  },
  {
   "cell_type": "code",
   "execution_count": 4,
   "metadata": {
    "colab": {
     "base_uri": "https://localhost:8080/"
    },
    "id": "jWWRlpssp7Cv",
    "outputId": "a78a1e55-c2d5-42e3-b0c6-f649701baebb"
   },
   "outputs": [
    {
     "name": "stdout",
     "output_type": "stream",
     "text": [
      "[<viking_clases.Viking object at 0x00000134EE00C2E0>, <viking_clases.Viking object at 0x00000134EE00C7F0>, <viking_clases.Viking object at 0x00000134EE00CEB0>, <viking_clases.Viking object at 0x00000134EE00C8B0>, <viking_clases.Viking object at 0x00000134EE00CB80>, <viking_clases.Viking object at 0x00000134EE00C310>, <viking_clases.Viking object at 0x00000134EE01E880>]\n"
     ]
    }
   ],
   "source": [
    "for i in range(0, 7):\n",
    "    guerra1.add_viking(Viking('Erik', 20, 15))\n",
    "    \n",
    "print(guerra1.viking_army)"
   ]
  },
  {
   "cell_type": "code",
   "execution_count": 5,
   "metadata": {
    "colab": {
     "base_uri": "https://localhost:8080/"
    },
    "id": "VQc_cAR-p7AM",
    "outputId": "e03d0158-aeb5-4eb4-d006-de7a715a134e"
   },
   "outputs": [
    {
     "name": "stdout",
     "output_type": "stream",
     "text": [
      "[<viking_clases.Saxon object at 0x00000134EE00CBE0>, <viking_clases.Saxon object at 0x00000134EE01E160>, <viking_clases.Saxon object at 0x00000134EE01EFA0>, <viking_clases.Saxon object at 0x00000134EE01E3D0>, <viking_clases.Saxon object at 0x00000134EE01EB80>, <viking_clases.Saxon object at 0x00000134EE01EDC0>, <viking_clases.Saxon object at 0x00000134EE01EE20>, <viking_clases.Saxon object at 0x00000134EE01EAF0>, <viking_clases.Saxon object at 0x00000134EE01E670>, <viking_clases.Saxon object at 0x00000134EE01E6D0>, <viking_clases.Saxon object at 0x00000134EE01E700>, <viking_clases.Saxon object at 0x00000134EE01EF70>, <viking_clases.Saxon object at 0x00000134EE01EF10>, <viking_clases.Saxon object at 0x00000134EE01E130>, <viking_clases.Saxon object at 0x00000134EE01E4F0>]\n"
     ]
    }
   ],
   "source": [
    "for i in range(0, 15):\n",
    "    guerra1.add_saxon(Saxon(30, 10))\n",
    "    \n",
    "print(guerra1.saxon_army)"
   ]
  },
  {
   "cell_type": "code",
   "execution_count": 6,
   "metadata": {
    "colab": {
     "base_uri": "https://localhost:8080/"
    },
    "id": "csKHCBFoqTup",
    "outputId": "3259d2ea-bf66-44f9-c64c-8c6133080949"
   },
   "outputs": [
    {
     "name": "stdout",
     "output_type": "stream",
     "text": [
      "Vikings and Saxons are still in the thick of battle.\n",
      "30\n",
      "30\n",
      "30\n",
      "15\n",
      "30\n",
      "30\n",
      "30\n"
     ]
    }
   ],
   "source": [
    "guerra1.viking_attack();\n",
    "print(guerra1.show_status())\n",
    "\n",
    "# Print the health of the saxon army to check if attack worked\n",
    "for i in guerra1.saxon_army:\n",
    "    print(i.health)"
   ]
  },
  {
   "cell_type": "code",
   "execution_count": 7,
   "metadata": {
    "colab": {
     "base_uri": "https://localhost:8080/"
    },
    "id": "j8YgDu_tqTsH",
    "outputId": "cab25a4b-3ad0-433b-a20b-2a957f9b6f4d"
   },
   "outputs": [
    {
     "name": "stdout",
     "output_type": "stream",
     "text": [
      "Vikings and Saxons are still in the thick of battle.\n",
      "Erik has received 10 points of damage\n",
      "20\n",
      "20\n",
      "10\n",
      "20\n",
      "20\n",
      "20\n",
      "20\n"
     ]
    }
   ],
   "source": [
    "r_b= guerra1.saxon_attack()\n",
    "print(guerra1.show_status())\n",
    "print(r_b)\n",
    "\n",
    "for i in guerra1.viking_army:\n",
    "    print(i.health)"
   ]
  },
  {
   "cell_type": "code",
   "execution_count": 14,
   "metadata": {
    "colab": {
     "base_uri": "https://localhost:8080/"
    },
    "id": "J1npqii7qTpX",
    "outputId": "320a76f3-8271-4c75-9175-77ff82e5a614"
   },
   "outputs": [
    {
     "name": "stdout",
     "output_type": "stream",
     "text": [
      "Saxons have fought for their lives and survive another day...\n"
     ]
    }
   ],
   "source": [
    "while True:\n",
    "    \n",
    "    if not guerra1.viking_army:\n",
    "        print(guerra1.show_status())\n",
    "        break\n",
    "    \n",
    "    guerra1.viking_attack();\n",
    "    \n",
    "    if not guerra1.saxon_army:\n",
    "        print(guerra1.show_status())\n",
    "        break \n",
    "         \n",
    "    guerra1.saxon_attack();"
   ]
  },
  {
   "cell_type": "code",
   "execution_count": null,
   "metadata": {
    "id": "_R_oOtwMqTmv"
   },
   "outputs": [],
   "source": []
  },
  {
   "cell_type": "code",
   "execution_count": null,
   "metadata": {
    "id": "tvj6-XniqTkU"
   },
   "outputs": [],
   "source": []
  },
  {
   "cell_type": "code",
   "execution_count": null,
   "metadata": {
    "id": "6BotpHCoqThf"
   },
   "outputs": [],
   "source": []
  }
 ],
 "metadata": {
  "colab": {
   "provenance": []
  },
  "kernelspec": {
   "display_name": "Python 3 (ipykernel)",
   "language": "python",
   "name": "python3"
  },
  "language_info": {
   "codemirror_mode": {
    "name": "ipython",
    "version": 3
   },
   "file_extension": ".py",
   "mimetype": "text/x-python",
   "name": "python",
   "nbconvert_exporter": "python",
   "pygments_lexer": "ipython3",
   "version": "3.9.12"
  }
 },
 "nbformat": 4,
 "nbformat_minor": 1
}
